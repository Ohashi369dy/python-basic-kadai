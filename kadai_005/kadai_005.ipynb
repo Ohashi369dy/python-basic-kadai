{
  "nbformat": 4,
  "nbformat_minor": 0,
  "metadata": {
    "colab": {
      "provenance": []
    },
    "kernelspec": {
      "name": "python3",
      "display_name": "Python 3"
    },
    "language_info": {
      "name": "python"
    }
  },
  "cells": [
    {
      "cell_type": "code",
      "source": [],
      "metadata": {
        "id": "4uLHEbosyYef"
      },
      "execution_count": null,
      "outputs": []
    },
    {
      "cell_type": "code",
      "source": [
        "upper_side=10\n",
        "bottom_side=20\n",
        "height=5\n",
        "area_trsp=(upper_side + bottom_side)*height/2\n",
        "print(f\"台形の面積は{area_trsp}cm²です。\")\n",
        "\n",
        "\n"
      ],
      "metadata": {
        "id": "CnL_EDnasjVN",
        "colab": {
          "base_uri": "https://localhost:8080/"
        },
        "outputId": "fe44422a-bc26-4013-c3ec-fd6192ed815c"
      },
      "execution_count": 5,
      "outputs": [
        {
          "output_type": "stream",
          "name": "stdout",
          "text": [
            "台形の面積は75.0cm²です。\n"
          ]
        }
      ]
    },
    {
      "cell_type": "code",
      "source": [],
      "metadata": {
        "id": "fbJXDswQzMih"
      },
      "execution_count": null,
      "outputs": []
    }
  ]
}