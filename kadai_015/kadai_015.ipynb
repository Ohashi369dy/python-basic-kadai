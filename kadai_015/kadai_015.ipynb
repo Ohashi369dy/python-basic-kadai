{
  "nbformat": 4,
  "nbformat_minor": 0,
  "metadata": {
    "colab": {
      "provenance": []
    },
    "kernelspec": {
      "name": "python3",
      "display_name": "Python 3"
    },
    "language_info": {
      "name": "python"
    }
  },
  "cells": [
    {
      "cell_type": "code",
      "execution_count": 1,
      "metadata": {
        "colab": {
          "base_uri": "https://localhost:8080/"
        },
        "id": "Nkfz3Jq2Vba8",
        "outputId": "adad8abb-a9bb-4239-aea7-dd89aa821bdc"
      },
      "outputs": [
        {
          "output_type": "stream",
          "name": "stdout",
          "text": [
            "侍太郎 36\n"
          ]
        }
      ],
      "source": [
        "class Human:\n",
        "    def __init__(self,name,age):\n",
        "        self.name = name\n",
        "        self.age = age\n",
        "    def printinfo(self,name,age):\n",
        "        print(self.name,self.age)\n",
        "human = Human(\"侍太郎\",36)\n",
        "human.printinfo(\"侍太郎\",36)"
      ]
    }
  ]
}