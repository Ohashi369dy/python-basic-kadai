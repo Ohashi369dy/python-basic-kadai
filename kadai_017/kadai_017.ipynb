{
  "nbformat": 4,
  "nbformat_minor": 0,
  "metadata": {
    "colab": {
      "provenance": []
    },
    "kernelspec": {
      "name": "python3",
      "display_name": "Python 3"
    },
    "language_info": {
      "name": "python"
    }
  },
  "cells": [
    {
      "cell_type": "code",
      "source": [
        "class Human:\n",
        "    def __init__(self,name,age):\n",
        "        self.name =name\n",
        "        self.age =age\n",
        "    def check_adult(self):\n",
        "        if self.age >=20:\n",
        "            print(f\"{self.name}さんは大人です\")\n",
        "        else:\n",
        "            print(f\"{self.name}さんは大人ではありません\")\n",
        "\n",
        "a_member={\"田中\":20,\"鈴木\":35,\"佐藤\":18,\"山田\":40}\n",
        "\n",
        "for a_name,a_age in a_member.items():\n",
        "\n",
        "    human_a =Human(a_name,a_age)\n",
        "    human_a.check_adult()\n"
      ],
      "metadata": {
        "colab": {
          "base_uri": "https://localhost:8080/"
        },
        "id": "1m0adTvYL6pG",
        "outputId": "8ed2d29e-d0b8-4ff8-fce3-40bddd47fd1c"
      },
      "execution_count": 4,
      "outputs": [
        {
          "output_type": "stream",
          "name": "stdout",
          "text": [
            "田中さんは大人です\n",
            "鈴木さんは大人です\n",
            "佐藤さんは大人ではありません\n",
            "山田さんは大人です\n"
          ]
        }
      ]
    }
  ]
}