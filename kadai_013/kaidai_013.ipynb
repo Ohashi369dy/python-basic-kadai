{
  "nbformat": 4,
  "nbformat_minor": 0,
  "metadata": {
    "colab": {
      "provenance": []
    },
    "kernelspec": {
      "name": "python3",
      "display_name": "Python 3"
    },
    "language_info": {
      "name": "python"
    }
  },
  "cells": [
    {
      "cell_type": "code",
      "execution_count": 1,
      "metadata": {
        "colab": {
          "base_uri": "https://localhost:8080/"
        },
        "id": "mp13bybVuzre",
        "outputId": "281462be-e827-44de-8ccb-c1aee9c154da"
      },
      "outputs": [
        {
          "output_type": "stream",
          "name": "stdout",
          "text": [
            "商品の消費税込みの合計は121.0です。\n"
          ]
        }
      ],
      "source": [
        "def calc_total(price:int,rate:float)->float:\n",
        "    total = price + price * rate * 0.01\n",
        "    return total\n",
        "\n",
        "print(f\"商品の消費税込みの合計は{calc_total(110, 10)}です。\")"
      ]
    }
  ]
}