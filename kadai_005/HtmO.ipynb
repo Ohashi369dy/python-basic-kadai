{
  "nbformat": 4,
  "nbformat_minor": 0,
  "metadata": {
    "colab": {
      "provenance": []
    },
    "kernelspec": {
      "name": "python3",
      "display_name": "Python 3"
    },
    "language_info": {
      "name": "python"
    }
  },
  "cells": [
    {
      "cell_type": "code",
      "source": [],
      "metadata": {
        "id": "4uLHEbosyYef"
      },
      "execution_count": null,
      "outputs": []
    },
    {
      "cell_type": "code",
      "source": [
        "upper_side=10\n",
        "bottom_side=20\n",
        "height=5\n",
        "print(f\"台形の面積は{(upper_side+bottom_side)*height/2}㎠です。\")"
      ],
      "metadata": {
        "colab": {
          "base_uri": "https://localhost:8080/"
        },
        "id": "3sgugN3RoRq9",
        "outputId": "296bf2aa-8aa9-4225-bf48-814a02c224ea"
      },
      "execution_count": null,
      "outputs": [
        {
          "output_type": "stream",
          "name": "stdout",
          "text": [
            "台形の面積は75.0㎠です。\n"
          ]
        }
      ]
    },
    {
      "cell_type": "code",
      "source": [],
      "metadata": {
        "id": "CnL_EDnasjVN"
      },
      "execution_count": null,
      "outputs": []
    }
  ]
}