{
  "nbformat": 4,
  "nbformat_minor": 0,
  "metadata": {
    "colab": {
      "provenance": []
    },
    "kernelspec": {
      "name": "python3",
      "display_name": "Python 3"
    },
    "language_info": {
      "name": "python"
    }
  },
  "cells": [
    {
      "cell_type": "code",
      "source": [
        "class Human:\n",
        "    def __init__(self,name,age):\n",
        "        self.name =name\n",
        "        self.age =age\n",
        "    def check_adult(self,name,age):\n",
        "        if age >=20:\n",
        "            print(f\"{name}さんは大人です\")\n",
        "        else:\n",
        "            print(f\"{name}さんは大人ではありません\")\n",
        "\n",
        "a_member={\"田中\":20,\"鈴木\":35,\"佐藤\":18,\"山田\":40}\n",
        "\n",
        "for a_name,a_age in a_member.items():\n",
        "\n",
        "    human_a =Human(a_name,a_age)\n",
        "    human_a.check_adult(a_name,a_age)\n",
        "\n",
        "b_member={\"侍太郎\":36,\"侍二郎\":29,\"侍三郎\":19,\"侍花子\":24,\"侍丸子\":17}\n",
        "\n",
        "for b_name,b_age in b_member.items():\n",
        "    human_b =Human(b_name,b_age)\n",
        "    human_b.check_adult(b_name,b_age)\n",
        "\n",
        "\n",
        "\n",
        "\n",
        "\n",
        "\n"
      ],
      "metadata": {
        "colab": {
          "base_uri": "https://localhost:8080/"
        },
        "id": "OlLFRxdIsDzQ",
        "outputId": "b16bc05c-57b0-4d60-9ad8-ee5803e2e954"
      },
      "execution_count": 23,
      "outputs": [
        {
          "output_type": "stream",
          "name": "stdout",
          "text": [
            "田中さんは大人です\n",
            "鈴木さんは大人です\n",
            "佐藤さんは大人ではありません\n",
            "山田さんは大人です\n",
            "侍太郎さんは大人です\n",
            "侍二郎さんは大人です\n",
            "侍三郎さんは大人ではありません\n",
            "侍花子さんは大人です\n",
            "侍丸子さんは大人ではありません\n"
          ]
        }
      ]
    }
  ]
}