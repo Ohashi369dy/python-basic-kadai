{
  "nbformat": 4,
  "nbformat_minor": 0,
  "metadata": {
    "colab": {
      "provenance": []
    },
    "kernelspec": {
      "name": "python3",
      "display_name": "Python 3"
    },
    "language_info": {
      "name": "python"
    }
  },
  "cells": [
    {
      "cell_type": "code",
      "execution_count": 212,
      "metadata": {
        "colab": {
          "base_uri": "https://localhost:8080/"
        },
        "id": "oU7pDDdC4jUk",
        "outputId": "6df08936-242d-475f-aeee-b3d75a6ce582"
      },
      "outputs": [
        {
          "output_type": "stream",
          "name": "stdout",
          "text": [
            "FizzBuzz\n"
          ]
        }
      ],
      "source": [
        "import random\n",
        "\n",
        "var = random.random()*100\n",
        "if int(var % 3) == 0 and int(var % 5) == 0 :\n",
        "    print(\"FizzBuzz\")\n",
        "elif int(var % 3) == 0:\n",
        "    print(\"Fizz\")\n",
        "elif int(var % 5) == 0:\n",
        "    print(\"Buzz\")\n",
        "else:\n",
        "    print(int(var))\n",
        ""
      ]
    },
    {
      "cell_type": "code",
      "source": [],
      "metadata": {
        "id": "Tihbxn8s8hkA"
      },
      "execution_count": null,
      "outputs": []
    }
  ]
}