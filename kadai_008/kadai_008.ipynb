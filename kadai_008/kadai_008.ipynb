{
  "nbformat": 4,
  "nbformat_minor": 0,
  "metadata": {
    "colab": {
      "provenance": []
    },
    "kernelspec": {
      "name": "python3",
      "display_name": "Python 3"
    },
    "language_info": {
      "name": "python"
    }
  },
  "cells": [
    {
      "cell_type": "code",
      "execution_count": 294,
      "metadata": {
        "colab": {
          "base_uri": "https://localhost:8080/"
        },
        "id": "oU7pDDdC4jUk",
        "outputId": "2e93417a-f530-488c-ed10-dece468731c6"
      },
      "outputs": [
        {
          "output_type": "stream",
          "name": "stdout",
          "text": [
            "Fizz\n"
          ]
        }
      ],
      "source": [
        "import random\n",
        "\n",
        "var = random.randint(1,1000)\n",
        "if int(var % 3) == 0 and int(var % 5) == 0 :\n",
        "    print(\"FizzBuzz\")\n",
        "elif int(var % 3) == 0:\n",
        "    print(\"Fizz\")\n",
        "elif int(var % 5) == 0:\n",
        "    print(\"Buzz\")\n",
        "else:\n",
        "    print(int(var))\n",
        ""
      ]
    }
  ]
}