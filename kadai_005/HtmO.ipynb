{
  "nbformat": 4,
  "nbformat_minor": 0,
  "metadata": {
    "colab": {
      "provenance": []
    },
    "kernelspec": {
      "name": "python3",
      "display_name": "Python 3"
    },
    "language_info": {
      "name": "python"
    }
  },
  "cells": [
    {
      "cell_type": "code",
      "source": [],
      "metadata": {
        "id": "4uLHEbosyYef"
      },
      "execution_count": null,
      "outputs": []
    },
    {
      "cell_type": "code",
      "source": [
        "\n",
        "print(f\"台形の面積は{(upper_side+bottom_side)*height/2}㎠です。\")upper_side=10\n",
        "bottom_side=20\n",
        "height=5"
      ],
      "metadata": {
        "colab": {
          "base_uri": "https://localhost:8080/"
        },
        "id": "3sgugN3RoRq9",
        "outputId": "1b5acb40-93ff-4d5a-e766-8763b6a0c406"
      },
      "execution_count": 1,
      "outputs": [
        {
          "output_type": "stream",
          "name": "stdout",
          "text": [
            "台形の面積は75.0㎠です。\n"
          ]
        }
      ]
    },
    {
      "cell_type": "code",
      "source": [
        "upper_side=10\n",
        "bottom_side=20\n",
        "height=5\n",
        "area_trsp=(upper_side + bottom_side)*height/2\n",
        "print(f\"台形の面積は{area_trsp}㎠です。\")\n",
        "\n",
        "\n"
      ],
      "metadata": {
        "id": "CnL_EDnasjVN",
        "colab": {
          "base_uri": "https://localhost:8080/"
        },
        "outputId": "03130421-2430-4ce0-d620-8d90e504d6f4"
      },
      "execution_count": 4,
      "outputs": [
        {
          "output_type": "stream",
          "name": "stdout",
          "text": [
            "台形の面積は75.0㎠です。\n"
          ]
        }
      ]
    },
    {
      "cell_type": "code",
      "source": [],
      "metadata": {
        "id": "fbJXDswQzMih"
      },
      "execution_count": null,
      "outputs": []
    }
  ]
}